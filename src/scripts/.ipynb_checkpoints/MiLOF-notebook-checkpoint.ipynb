{
 "cells": [
  {
   "cell_type": "code",
   "execution_count": 33,
   "metadata": {},
   "outputs": [
    {
     "name": "stdout",
     "output_type": "stream",
     "text": [
      "{'_id': ObjectId('5a23c93d9706ec1e744e1423'), '': 2, 'Sepal': {'Length': 4.9, 'Width': 3}, 'Petal': {'Length': 1.4, 'Width': 0.2}, 'Species': 'setosa'}\n",
      "{'_id': ObjectId('5a23c93d9706ec1e744e1424'), '': 1, 'Sepal': {'Length': 5.1, 'Width': 3.5}, 'Petal': {'Length': 1.4, 'Width': 0.2}, 'Species': 'setosa'}\n",
      "{'_id': ObjectId('5a23c93d9706ec1e744e1425'), '': 4, 'Sepal': {'Length': 4.6, 'Width': 3.1}, 'Petal': {'Length': 1.5, 'Width': 0.2}, 'Species': 'setosa'}\n",
      "{'_id': ObjectId('5a23c93d9706ec1e744e1426'), '': 3, 'Sepal': {'Length': 4.7, 'Width': 3.2}, 'Petal': {'Length': 1.3, 'Width': 0.2}, 'Species': 'setosa'}\n",
      "{'_id': ObjectId('5a23c93d9706ec1e744e1427'), '': 5, 'Sepal': {'Length': 5, 'Width': 3.6}, 'Petal': {'Length': 1.4, 'Width': 0.2}, 'Species': 'setosa'}\n",
      "{'_id': ObjectId('5a23c93d9706ec1e744e1428'), '': 6, 'Sepal': {'Length': 5.4, 'Width': 3.9}, 'Petal': {'Length': 1.7, 'Width': 0.4}, 'Species': 'setosa'}\n",
      "{'_id': ObjectId('5a23c93d9706ec1e744e1429'), '': 7, 'Sepal': {'Length': 4.6, 'Width': 3.4}, 'Petal': {'Length': 1.4, 'Width': 0.3}, 'Species': 'setosa'}\n",
      "{'_id': ObjectId('5a23c93d9706ec1e744e142a'), '': 8, 'Sepal': {'Length': 5, 'Width': 3.4}, 'Petal': {'Length': 1.5, 'Width': 0.2}, 'Species': 'setosa'}\n",
      "{'_id': ObjectId('5a23c93d9706ec1e744e142b'), '': 9, 'Sepal': {'Length': 4.4, 'Width': 2.9}, 'Petal': {'Length': 1.4, 'Width': 0.2}, 'Species': 'setosa'}\n",
      "{'_id': ObjectId('5a23c93d9706ec1e744e142c'), '': 10, 'Sepal': {'Length': 4.9, 'Width': 3.1}, 'Petal': {'Length': 1.5, 'Width': 0.1}, 'Species': 'setosa'}\n",
      "{'_id': ObjectId('5a23c93d9706ec1e744e142d'), '': 11, 'Sepal': {'Length': 5.4, 'Width': 3.7}, 'Petal': {'Length': 1.5, 'Width': 0.2}, 'Species': 'setosa'}\n",
      "{'_id': ObjectId('5a23c93d9706ec1e744e142e'), '': 12, 'Sepal': {'Length': 4.8, 'Width': 3.4}, 'Petal': {'Length': 1.6, 'Width': 0.2}, 'Species': 'setosa'}\n",
      "{'_id': ObjectId('5a23c93d9706ec1e744e142f'), '': 13, 'Sepal': {'Length': 4.8, 'Width': 3}, 'Petal': {'Length': 1.4, 'Width': 0.1}, 'Species': 'setosa'}\n",
      "{'_id': ObjectId('5a23c93d9706ec1e744e1430'), '': 17, 'Sepal': {'Length': 5.4, 'Width': 3.9}, 'Petal': {'Length': 1.3, 'Width': 0.4}, 'Species': 'setosa'}\n",
      "{'_id': ObjectId('5a23c93d9706ec1e744e1431'), '': 18, 'Sepal': {'Length': 5.1, 'Width': 3.5}, 'Petal': {'Length': 1.4, 'Width': 0.3}, 'Species': 'setosa'}\n",
      "{'_id': ObjectId('5a23c93d9706ec1e744e1432'), '': 19, 'Sepal': {'Length': 5.7, 'Width': 3.8}, 'Petal': {'Length': 1.7, 'Width': 0.3}, 'Species': 'setosa'}\n",
      "{'_id': ObjectId('5a23c93d9706ec1e744e1433'), '': 14, 'Sepal': {'Length': 4.3, 'Width': 3}, 'Petal': {'Length': 1.1, 'Width': 0.1}, 'Species': 'setosa'}\n",
      "{'_id': ObjectId('5a23c93d9706ec1e744e1434'), '': 15, 'Sepal': {'Length': 5.8, 'Width': 4}, 'Petal': {'Length': 1.2, 'Width': 0.2}, 'Species': 'setosa'}\n",
      "{'_id': ObjectId('5a23c93d9706ec1e744e1435'), '': 16, 'Sepal': {'Length': 5.7, 'Width': 4.4}, 'Petal': {'Length': 1.5, 'Width': 0.4}, 'Species': 'setosa'}\n",
      "{'_id': ObjectId('5a23c93d9706ec1e744e1436'), '': 22, 'Sepal': {'Length': 5.1, 'Width': 3.7}, 'Petal': {'Length': 1.5, 'Width': 0.4}, 'Species': 'setosa'}\n",
      "{'_id': ObjectId('5a23c93d9706ec1e744e1437'), '': 23, 'Sepal': {'Length': 4.6, 'Width': 3.6}, 'Petal': {'Length': 1, 'Width': 0.2}, 'Species': 'setosa'}\n",
      "{'_id': ObjectId('5a23c93d9706ec1e744e1438'), '': 24, 'Sepal': {'Length': 5.1, 'Width': 3.3}, 'Petal': {'Length': 1.7, 'Width': 0.5}, 'Species': 'setosa'}\n",
      "{'_id': ObjectId('5a23c93d9706ec1e744e1439'), '': 25, 'Sepal': {'Length': 4.8, 'Width': 3.4}, 'Petal': {'Length': 1.9, 'Width': 0.2}, 'Species': 'setosa'}\n",
      "{'_id': ObjectId('5a23c93d9706ec1e744e143a'), '': 26, 'Sepal': {'Length': 5, 'Width': 3}, 'Petal': {'Length': 1.6, 'Width': 0.2}, 'Species': 'setosa'}\n",
      "{'_id': ObjectId('5a23c93d9706ec1e744e143b'), '': 21, 'Sepal': {'Length': 5.4, 'Width': 3.4}, 'Petal': {'Length': 1.7, 'Width': 0.2}, 'Species': 'setosa'}\n",
      "{'_id': ObjectId('5a23c93d9706ec1e744e143c'), '': 27, 'Sepal': {'Length': 5, 'Width': 3.4}, 'Petal': {'Length': 1.6, 'Width': 0.4}, 'Species': 'setosa'}\n",
      "{'_id': ObjectId('5a23c93d9706ec1e744e143d'), '': 28, 'Sepal': {'Length': 5.2, 'Width': 3.5}, 'Petal': {'Length': 1.5, 'Width': 0.2}, 'Species': 'setosa'}\n",
      "{'_id': ObjectId('5a23c93d9706ec1e744e143e'), '': 29, 'Sepal': {'Length': 5.2, 'Width': 3.4}, 'Petal': {'Length': 1.4, 'Width': 0.2}, 'Species': 'setosa'}\n",
      "{'_id': ObjectId('5a23c93d9706ec1e744e143f'), '': 31, 'Sepal': {'Length': 4.8, 'Width': 3.1}, 'Petal': {'Length': 1.6, 'Width': 0.2}, 'Species': 'setosa'}\n",
      "{'_id': ObjectId('5a23c93d9706ec1e744e1440'), '': 30, 'Sepal': {'Length': 4.7, 'Width': 3.2}, 'Petal': {'Length': 1.6, 'Width': 0.2}, 'Species': 'setosa'}\n",
      "{'_id': ObjectId('5a23c93d9706ec1e744e1441'), '': 20, 'Sepal': {'Length': 5.1, 'Width': 3.8}, 'Petal': {'Length': 1.5, 'Width': 0.3}, 'Species': 'setosa'}\n",
      "{'_id': ObjectId('5a23c93d9706ec1e744e1442'), '': 32, 'Sepal': {'Length': 5.4, 'Width': 3.4}, 'Petal': {'Length': 1.5, 'Width': 0.4}, 'Species': 'setosa'}\n"
     ]
    },
    {
     "ename": "KeyboardInterrupt",
     "evalue": "",
     "output_type": "error",
     "traceback": [
      "\u001b[1;31m---------------------------------------------------------------------------\u001b[0m",
      "\u001b[1;31mKeyboardInterrupt\u001b[0m                         Traceback (most recent call last)",
      "\u001b[1;32m<ipython-input-33-50e01d1d114a>\u001b[0m in \u001b[0;36m<module>\u001b[1;34m()\u001b[0m\n\u001b[0;32m     17\u001b[0m     \u001b[0mprint\u001b[0m \u001b[1;33m(\u001b[0m\u001b[0mdoc\u001b[0m\u001b[1;33m)\u001b[0m\u001b[1;33m\u001b[0m\u001b[0m\n\u001b[0;32m     18\u001b[0m     \u001b[0moutColl\u001b[0m\u001b[1;33m.\u001b[0m\u001b[0minsert_one\u001b[0m\u001b[1;33m(\u001b[0m\u001b[0mdoc\u001b[0m\u001b[1;33m)\u001b[0m\u001b[1;33m\u001b[0m\u001b[0m\n\u001b[1;32m---> 19\u001b[1;33m     \u001b[0mtime\u001b[0m\u001b[1;33m.\u001b[0m\u001b[0msleep\u001b[0m\u001b[1;33m(\u001b[0m\u001b[0mTIMEOUT\u001b[0m\u001b[1;33m)\u001b[0m\u001b[1;33m\u001b[0m\u001b[0m\n\u001b[0m\u001b[0;32m     20\u001b[0m \u001b[1;33m\u001b[0m\u001b[0m\n\u001b[0;32m     21\u001b[0m \u001b[0mclient\u001b[0m\u001b[1;33m.\u001b[0m\u001b[0mclose\u001b[0m\u001b[1;33m(\u001b[0m\u001b[1;33m)\u001b[0m\u001b[1;33m\u001b[0m\u001b[0m\n",
      "\u001b[1;31mKeyboardInterrupt\u001b[0m: "
     ]
    }
   ],
   "source": [
    "from pymongo import MongoClient\n",
    "import time\n",
    "\n",
    "MONGO_SERV = 'localhost:27017'\n",
    "SRC_COLLECTION = 'iris'\n",
    "OUT_COLLECTION = 'current'\n",
    "TIMEOUT = 3    # number of seconds\n",
    "\n",
    "client = MongoClient(MONGO_SERV)\n",
    "db = client.datasets\n",
    "srcColl = db[SRC_COLLECTION]\n",
    "outColl = db[OUT_COLLECTION]\n",
    "outColl.delete_many({})\n",
    "\n",
    "for doc in srcColl.find():\n",
    "    #print (doc)\n",
    "    outColl.insert_one(doc)\n",
    "    time.sleep(TIMEOUT)\n",
    "        \n",
    "client.close()\n"
   ]
  },
  {
   "cell_type": "code",
   "execution_count": null,
   "metadata": {
    "collapsed": true
   },
   "outputs": [],
   "source": []
  },
  {
   "cell_type": "code",
   "execution_count": null,
   "metadata": {
    "collapsed": true
   },
   "outputs": [],
   "source": []
  }
 ],
 "metadata": {
  "kernelspec": {
   "display_name": "Python 3",
   "language": "python",
   "name": "python3"
  },
  "language_info": {
   "codemirror_mode": {
    "name": "ipython",
    "version": 3
   },
   "file_extension": ".py",
   "mimetype": "text/x-python",
   "name": "python",
   "nbconvert_exporter": "python",
   "pygments_lexer": "ipython3",
   "version": "3.6.3"
  },
  "varInspector": {
   "cols": {
    "lenName": 16,
    "lenType": 16,
    "lenVar": 40
   },
   "kernels_config": {
    "python": {
     "delete_cmd_postfix": "",
     "delete_cmd_prefix": "del ",
     "library": "var_list.py",
     "varRefreshCmd": "print(var_dic_list())"
    },
    "r": {
     "delete_cmd_postfix": ") ",
     "delete_cmd_prefix": "rm(",
     "library": "var_list.r",
     "varRefreshCmd": "cat(var_dic_list()) "
    }
   },
   "types_to_exclude": [
    "module",
    "function",
    "builtin_function_or_method",
    "instance",
    "_Feature"
   ],
   "window_display": false
  }
 },
 "nbformat": 4,
 "nbformat_minor": 2
}
